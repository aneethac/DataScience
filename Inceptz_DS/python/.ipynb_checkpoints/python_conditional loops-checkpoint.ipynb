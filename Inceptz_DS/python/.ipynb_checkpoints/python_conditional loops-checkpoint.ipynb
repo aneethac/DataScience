{
 "cells": [
  {
   "cell_type": "code",
   "execution_count": 6,
   "metadata": {},
   "outputs": [
    {
     "name": "stdout",
     "output_type": "stream",
     "text": [
      "Input a number 40\n",
      "Given number is greater than 40\n"
     ]
    }
   ],
   "source": [
    "i=int(input(\"Input a number \"))\n",
    "if i<40:\n",
    "    print(\"Given number is less than 40\")\n",
    "else:\n",
    "    print(\"Given number is greater than 40\")"
   ]
  },
  {
   "cell_type": "code",
   "execution_count": 13,
   "metadata": {},
   "outputs": [
    {
     "name": "stdout",
     "output_type": "stream",
     "text": [
      "Input a number 90\n",
      "You are Grade is A\n"
     ]
    }
   ],
   "source": [
    "mark = int(input(\"Input a number \"))\n",
    "if(mark >= 90):\n",
    "    print(\"You are Grade is A\")\n",
    "elif(mark <90 and mark > 70 ):    \n",
    "    print(\"You are Grade is B\")\n",
    "else:\n",
    "    print(\"You are Grade is C\")"
   ]
  },
  {
   "cell_type": "code",
   "execution_count": 16,
   "metadata": {},
   "outputs": [
    {
     "name": "stdout",
     "output_type": "stream",
     "text": [
      "Input a number 78\n",
      "You are Grade is C\n"
     ]
    }
   ],
   "source": [
    "mark = int(input(\"Input a number \"))\n",
    "print(\"You are Grade is A\") if mark >= 90 else print(\"You are Grade is C\")"
   ]
  },
  {
   "cell_type": "code",
   "execution_count": 30,
   "metadata": {},
   "outputs": [
    {
     "name": "stdout",
     "output_type": "stream",
     "text": [
      "Enter five marks45\n",
      "Enter five marks67\n",
      "Enter five marks78\n",
      "Enter five marks89\n",
      "Enter five marks90\n",
      "Sum is  369\n",
      "average is  73.8\n"
     ]
    }
   ],
   "source": [
    "marks =list()\n",
    "\n",
    "for i in range(0,5):\n",
    "    mark = int(input(\"Enter five marks\"))\n",
    "    marks.append(mark)   \n",
    "print(\"Sum is \",sum(marks))\n",
    "print(\"average is \",sum(marks)/len(marks))"
   ]
  },
  {
   "cell_type": "code",
   "execution_count": 32,
   "metadata": {},
   "outputs": [
    {
     "name": "stdout",
     "output_type": "stream",
     "text": [
      "[0, 6, 12, 18, 24, 30, 36, 42, 48, 54, 60, 66, 72, 78, 84, 90, 96]\n"
     ]
    }
   ],
   "source": [
    "lst = []\n",
    "for i in range(0,100):\n",
    "    if(i%6)==0:\n",
    "        lst.append(i)\n",
    "print(lst)        "
   ]
  }
 ],
 "metadata": {
  "kernelspec": {
   "display_name": "Python 3",
   "language": "python",
   "name": "python3"
  },
  "language_info": {
   "codemirror_mode": {
    "name": "ipython",
    "version": 3
   },
   "file_extension": ".py",
   "mimetype": "text/x-python",
   "name": "python",
   "nbconvert_exporter": "python",
   "pygments_lexer": "ipython3",
   "version": "3.7.6"
  }
 },
 "nbformat": 4,
 "nbformat_minor": 4
}
