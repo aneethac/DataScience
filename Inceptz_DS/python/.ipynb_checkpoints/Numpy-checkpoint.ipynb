{
 "cells": [
  {
   "cell_type": "code",
   "execution_count": 52,
   "metadata": {},
   "outputs": [
    {
     "name": "stdout",
     "output_type": "stream",
     "text": [
      "1.18.1\n"
     ]
    }
   ],
   "source": [
    "print(np.__version__)"
   ]
  },
  {
   "cell_type": "code",
   "execution_count": null,
   "metadata": {},
   "outputs": [],
   "source": [
    "'''!pip install numpy\n",
    "!conda install numpy\n",
    "!pip3 install numpy'''"
   ]
  },
  {
   "cell_type": "code",
   "execution_count": 22,
   "metadata": {},
   "outputs": [
    {
     "name": "stdout",
     "output_type": "stream",
     "text": [
      "The size of numpy array is 400 \n"
     ]
    }
   ],
   "source": [
    "import numpy as np\n",
    "import time \n",
    "import sys\n",
    "# from numpy import array\n",
    "array = np.arange(100)\n",
    "print(\"The size of numpy array is {} \".format(array.size * array.itemsize) )"
   ]
  },
  {
   "cell_type": "code",
   "execution_count": 28,
   "metadata": {},
   "outputs": [
    {
     "name": "stdout",
     "output_type": "stream",
     "text": [
      "The size of numpy list is 2800 \n"
     ]
    }
   ],
   "source": [
    "list1 = range(100)\n",
    "print(\"The size of numpy list is {} \".format(sys.getsizeof(1) * len(list1)) )"
   ]
  },
  {
   "cell_type": "code",
   "execution_count": 15,
   "metadata": {},
   "outputs": [],
   "source": [
    "size =100000\n",
    "list1 =range(size)\n",
    "list2 =range(size)\n",
    "\n",
    "arr1 = np.arange(size)\n",
    "arr2 = np.arange(size)"
   ]
  },
  {
   "cell_type": "code",
   "execution_count": 18,
   "metadata": {},
   "outputs": [
    {
     "name": "stdout",
     "output_type": "stream",
     "text": [
      "Total time taken for execution is  13.02027702331543\n"
     ]
    }
   ],
   "source": [
    "start = time.time()\n",
    "for x,y in zip(list1,list2):\n",
    "    res = x+y\n",
    "print( \"Total time taken for execution is \",(time.time() -start)*1000)    "
   ]
  },
  {
   "cell_type": "code",
   "execution_count": 19,
   "metadata": {},
   "outputs": [
    {
     "name": "stdout",
     "output_type": "stream",
     "text": [
      "Total time taken for execution is  0.9992122650146484\n"
     ]
    }
   ],
   "source": [
    "start = time.time()\n",
    "res = arr1 + arr2\n",
    "print( \"Total time taken for execution is \",(time.time() -start)*1000)    "
   ]
  },
  {
   "cell_type": "code",
   "execution_count": 27,
   "metadata": {},
   "outputs": [
    {
     "name": "stdout",
     "output_type": "stream",
     "text": [
      "add  [ 5  8 11]\n",
      "sub  [-3 -4 -5]\n",
      "mel  [ 4 12 24]\n"
     ]
    }
   ],
   "source": [
    "a1 =np.array([1,2,3])\n",
    "a2 =np.array([4,6,8])\n",
    "print(\"add \",a1+a2)\n",
    "print(\"sub \",a1-a2)\n",
    "print(\"mel \",a1*a2)"
   ]
  },
  {
   "cell_type": "code",
   "execution_count": 36,
   "metadata": {},
   "outputs": [
    {
     "data": {
      "text/plain": [
       "numpy.ndarray"
      ]
     },
     "execution_count": 36,
     "metadata": {},
     "output_type": "execute_result"
    }
   ],
   "source": [
    "type(a1)"
   ]
  },
  {
   "cell_type": "code",
   "execution_count": 61,
   "metadata": {},
   "outputs": [
    {
     "name": "stdout",
     "output_type": "stream",
     "text": [
      "[list([1, 3, 'string']) 'a' 1 2 (10, '23') {34, '45'}]\n",
      "<class 'numpy.ndarray'>\n",
      "<class 'list'>\n",
      "<class 'int'>\n",
      "<class 'str'>\n",
      "<class 'str'>\n",
      "<class 'str'>\n",
      "<class 'tuple'>\n",
      "<class 'str'>\n",
      "<class 'set'>\n"
     ]
    }
   ],
   "source": [
    "a3= np.array([[1,3,'string'],'a',1,2,(10,'23'),{34,'45'}])\n",
    " \n",
    "print(a3)\n",
    "print(type(a3))\n",
    "print(type(a3[0]))\n",
    "print(type(a3[0][0]))\n",
    "print(type(a3[0][2]))\n",
    "print(type(a3[1]))\n",
    "print(type(a3[1]))\n",
    "print(type(a3[4]))\n",
    "print(type(a3[4][1]))\n",
    "print(type(a3[5]))\n"
   ]
  },
  {
   "cell_type": "code",
   "execution_count": 60,
   "metadata": {},
   "outputs": [
    {
     "name": "stdout",
     "output_type": "stream",
     "text": [
      "<class 'tuple'>\n"
     ]
    }
   ],
   "source": [
    "a1.shape\n",
    "print(type(a1.shape))"
   ]
  },
  {
   "cell_type": "markdown",
   "metadata": {},
   "source": [
    "nd n dimensional array\n",
    "1-D matrix rows\n",
    "2-D matrix rows,columns\n",
    "3-D matrix (Tensors)"
   ]
  },
  {
   "cell_type": "code",
   "execution_count": 70,
   "metadata": {
    "scrolled": true
   },
   "outputs": [
    {
     "name": "stdout",
     "output_type": "stream",
     "text": [
      "[[1 2 5]\n",
      " [3 4 7]]\n",
      "4\n",
      "(2, 3)\n",
      "[[3 4]]\n"
     ]
    }
   ],
   "source": [
    "a4 =np.array([[1,2,5],[3,4,7]])\n",
    "print(a4)\n",
    "print(a4[1][1])\n",
    "print(a4.shape)\n",
    "print(a4[1:,:2])"
   ]
  },
  {
   "cell_type": "code",
   "execution_count": 73,
   "metadata": {},
   "outputs": [
    {
     "name": "stdout",
     "output_type": "stream",
     "text": [
      "(3, 3)\n",
      "[[8 9]]\n"
     ]
    }
   ],
   "source": [
    "a5 =np.array([[1,2,5],[3,4,7],[8,9,10]]) \n",
    "print(a5.shape)\n",
    "print(a5[2:,:2]) \n",
    "print(a5[2:,:-1]) "
   ]
  },
  {
   "cell_type": "code",
   "execution_count": 78,
   "metadata": {},
   "outputs": [
    {
     "name": "stdout",
     "output_type": "stream",
     "text": [
      "(3, 4)\n"
     ]
    }
   ],
   "source": [
    "#2d array\n",
    "a5 =np.array([[1,2,3,5],[3,4,7,4],[8,9,10,6]]) \n",
    "print(a5.shape)"
   ]
  },
  {
   "cell_type": "code",
   "execution_count": 83,
   "metadata": {},
   "outputs": [
    {
     "name": "stdout",
     "output_type": "stream",
     "text": [
      "[[[ 1  2  3]\n",
      "  [ 4  5  6]\n",
      "  [ 7  8  9]\n",
      "  [10 11 12]]]\n",
      "(1, 4, 3)\n"
     ]
    }
   ],
   "source": [
    "#3d array -1 depth (4,3)\n",
    "a6= np.array([[[1,2,3],[4,5,6],[7,8,9],[10,11,12]]])\n",
    "print(a6)\n",
    "print(a6.shape)"
   ]
  },
  {
   "cell_type": "code",
   "execution_count": 85,
   "metadata": {},
   "outputs": [
    {
     "name": "stdout",
     "output_type": "stream",
     "text": [
      "[[[  1   2   3]\n",
      "  [  4   5   6]\n",
      "  [  7   8   9]\n",
      "  [ 10  11  12]]\n",
      "\n",
      " [[ 11  12  13]\n",
      "  [ 14  15  16]\n",
      "  [ 17  18  19]\n",
      "  [110 111 112]]]\n",
      "(2, 4, 3)\n"
     ]
    }
   ],
   "source": [
    "#3d array -2 depth (4,3)\n",
    "a6= np.array([[[1,2,3],[4,5,6],[7,8,9],[10,11,12]]\n",
    "              ,[[11,12,13],[14,15,16],[17,18,19],[110,111,112]]])\n",
    "print(a6)\n",
    "print(a6.shape)"
   ]
  },
  {
   "cell_type": "code",
   "execution_count": 90,
   "metadata": {},
   "outputs": [
    {
     "name": "stdout",
     "output_type": "stream",
     "text": [
      "[[ 0  1  2  3]\n",
      " [ 4  5  6  7]\n",
      " [ 8  9 10 11]\n",
      " [12 13 14 15]]\n"
     ]
    }
   ],
   "source": [
    "a= np.arange(16)\n",
    "b=a.reshape((4,4))\n",
    "print(b)"
   ]
  },
  {
   "cell_type": "code",
   "execution_count": 93,
   "metadata": {},
   "outputs": [
    {
     "name": "stdout",
     "output_type": "stream",
     "text": [
      "[[[ 0  1  2]\n",
      "  [ 3  4  5]]\n",
      "\n",
      " [[ 6  7  8]\n",
      "  [ 9 10 11]]\n",
      "\n",
      " [[12 13 14]\n",
      "  [15 16 17]]\n",
      "\n",
      " [[18 19 20]\n",
      "  [21 22 23]]]\n"
     ]
    }
   ],
   "source": [
    "a= np.arange(24)\n",
    "b=a.reshape((4,2,3))\n",
    "print(b)"
   ]
  },
  {
   "cell_type": "code",
   "execution_count": 96,
   "metadata": {},
   "outputs": [
    {
     "data": {
      "text/plain": [
       "array([  0.        ,   4.16666667,   8.33333333,  12.5       ,\n",
       "        16.66666667,  20.83333333,  25.        ,  29.16666667,\n",
       "        33.33333333,  37.5       ,  41.66666667,  45.83333333,\n",
       "        50.        ,  54.16666667,  58.33333333,  62.5       ,\n",
       "        66.66666667,  70.83333333,  75.        ,  79.16666667,\n",
       "        83.33333333,  87.5       ,  91.66666667,  95.83333333,\n",
       "       100.        ])"
      ]
     },
     "execution_count": 96,
     "metadata": {},
     "output_type": "execute_result"
    }
   ],
   "source": [
    "#functions generates elements which are equally spaced fro each other\n",
    "np.linspace(0,100,25)  #(start,end,no of elements)"
   ]
  },
  {
   "cell_type": "code",
   "execution_count": 112,
   "metadata": {},
   "outputs": [
    {
     "name": "stdout",
     "output_type": "stream",
     "text": [
      "[ 0 10 20 30 40 50 60 70 80 90]\n",
      "[90 80 70 60 50 40 30 20]\n"
     ]
    }
   ],
   "source": [
    "#arange : Generated values based on the 'step' you specify  between start and stop\n",
    "print(np.arange(0,100,10))\n",
    "print(np.arange(90,10,-10))"
   ]
  },
  {
   "cell_type": "code",
   "execution_count": 109,
   "metadata": {},
   "outputs": [
    {
     "data": {
      "text/plain": [
       "[99, 94, 89, 84, 79, 74, 69, 64, 59, 54, 49, 44, 39, 34, 29, 24, 19, 14, 9, 4]"
      ]
     },
     "execution_count": 109,
     "metadata": {},
     "output_type": "execute_result"
    }
   ],
   "source": [
    "lst =list(range(0,100))\n",
    "lst[0:100:5]\n",
    "lst[100:0:-5]"
   ]
  },
  {
   "cell_type": "code",
   "execution_count": 116,
   "metadata": {},
   "outputs": [
    {
     "name": "stdout",
     "output_type": "stream",
     "text": [
      "[24 26 28 30 32 34 36 38 40 42 44 46 48 50 52 54 56 58 60 62 64 66 68]\n",
      "[68 66 64 62 60 58 56 54 52 50 48 46 44 42 40 38 36 34 32 30 28 26]\n"
     ]
    }
   ],
   "source": [
    "print(np.arange(24,69,2))\n",
    "print(np.arange(68,24,-2))"
   ]
  },
  {
   "cell_type": "code",
   "execution_count": 122,
   "metadata": {},
   "outputs": [
    {
     "data": {
      "text/plain": [
       "array([[[0., 0.],\n",
       "        [0., 0.]],\n",
       "\n",
       "       [[0., 0.],\n",
       "        [0., 0.]],\n",
       "\n",
       "       [[0., 0.],\n",
       "        [0., 0.]]])"
      ]
     },
     "execution_count": 122,
     "metadata": {},
     "output_type": "execute_result"
    }
   ],
   "source": [
    "np.zeros((3,2,2))"
   ]
  },
  {
   "cell_type": "code",
   "execution_count": 123,
   "metadata": {},
   "outputs": [
    {
     "data": {
      "text/plain": [
       "array([[[1., 1.],\n",
       "        [1., 1.],\n",
       "        [1., 1.]],\n",
       "\n",
       "       [[1., 1.],\n",
       "        [1., 1.],\n",
       "        [1., 1.]],\n",
       "\n",
       "       [[1., 1.],\n",
       "        [1., 1.],\n",
       "        [1., 1.]]])"
      ]
     },
     "execution_count": 123,
     "metadata": {},
     "output_type": "execute_result"
    }
   ],
   "source": [
    "np.ones((3,3,2))"
   ]
  },
  {
   "cell_type": "code",
   "execution_count": 165,
   "metadata": {},
   "outputs": [
    {
     "data": {
      "text/plain": [
       "array([[0, 0, 0, 0, 0],\n",
       "       [0, 1, 1, 1, 0],\n",
       "       [0, 1, 1, 1, 0],\n",
       "       [0, 1, 1, 1, 0],\n",
       "       [0, 0, 0, 0, 0]])"
      ]
     },
     "execution_count": 165,
     "metadata": {},
     "output_type": "execute_result"
    }
   ],
   "source": [
    "#sol1\n",
    "b =  np.ones((3,3),dtype=int)\n",
    "np.pad(b,1)\n",
    "#sol2\n",
    "# a=np.zeros((5,5),dtype=int); a[1:4,1:4]=1; a\n",
    " "
   ]
  },
  {
   "cell_type": "code",
   "execution_count": 166,
   "metadata": {},
   "outputs": [
    {
     "data": {
      "text/plain": [
       "array([[1., 0., 0.],\n",
       "       [0., 1., 0.],\n",
       "       [0., 0., 1.]])"
      ]
     },
     "execution_count": 166,
     "metadata": {},
     "output_type": "execute_result"
    }
   ],
   "source": [
    "#identity matrix\n",
    "np.eye(3)\n"
   ]
  },
  {
   "cell_type": "code",
   "execution_count": 169,
   "metadata": {},
   "outputs": [
    {
     "data": {
      "text/plain": [
       "array([[1, 0, 0],\n",
       "       [0, 2, 0],\n",
       "       [0, 0, 3]])"
      ]
     },
     "execution_count": 169,
     "metadata": {},
     "output_type": "execute_result"
    }
   ],
   "source": [
    "#diagonal matrix\n",
    "np.diag([1,2,3])"
   ]
  },
  {
   "cell_type": "code",
   "execution_count": 172,
   "metadata": {},
   "outputs": [
    {
     "name": "stdout",
     "output_type": "stream",
     "text": [
      "[1 2 3]\n",
      "[66  2  3]\n",
      "[1 2 3]\n"
     ]
    }
   ],
   "source": [
    "a1=np.array([1,2,3])\n",
    "print(a1)\n",
    "dup = a1.copy()\n",
    "a1[0] =66\n",
    "print(a1)\n",
    "print(dup)"
   ]
  },
  {
   "cell_type": "code",
   "execution_count": 173,
   "metadata": {},
   "outputs": [
    {
     "name": "stdout",
     "output_type": "stream",
     "text": [
      "[1 2 3]\n",
      "[66  2  3]\n",
      "[66  2  3]\n"
     ]
    }
   ],
   "source": [
    "a1=np.array([1,2,3])\n",
    "print(a1)\n",
    "dup = a1.view() # reference \n",
    "a1[0] =66\n",
    "print(a1)\n",
    "print(dup)"
   ]
  },
  {
   "cell_type": "code",
   "execution_count": 175,
   "metadata": {},
   "outputs": [
    {
     "name": "stdout",
     "output_type": "stream",
     "text": [
      "66\n",
      "2\n",
      "3\n"
     ]
    }
   ],
   "source": [
    "a1=np.array([1,2,3])\n",
    "for i in a1:\n",
    "    print(i)"
   ]
  },
  {
   "cell_type": "code",
   "execution_count": 178,
   "metadata": {},
   "outputs": [
    {
     "name": "stdout",
     "output_type": "stream",
     "text": [
      "[1 2 3]\n",
      "[5 6 7]\n"
     ]
    }
   ],
   "source": [
    "a1=np.array([[1,2,3],[5,6,7]])\n",
    "for i in a1:\n",
    "    print(i)"
   ]
  },
  {
   "cell_type": "code",
   "execution_count": 188,
   "metadata": {},
   "outputs": [
    {
     "name": "stdout",
     "output_type": "stream",
     "text": [
      "[1 2 3]\n",
      "1\n",
      "2\n",
      "3\n",
      "[5 6 7]\n",
      "5\n",
      "6\n",
      "7\n"
     ]
    }
   ],
   "source": [
    "a1=np.array([[1,2,3],[5,6,7]])\n",
    "a1\n",
    "for row in a1:\n",
    "    print(row)\n",
    "    for ele in row:\n",
    "        print(ele)"
   ]
  },
  {
   "cell_type": "code",
   "execution_count": 182,
   "metadata": {},
   "outputs": [
    {
     "data": {
      "text/plain": [
       "(2, 3)"
      ]
     },
     "execution_count": 182,
     "metadata": {},
     "output_type": "execute_result"
    }
   ],
   "source": [
    "a1.shape"
   ]
  },
  {
   "cell_type": "code",
   "execution_count": 203,
   "metadata": {},
   "outputs": [],
   "source": [
    "# arr_3d =np.arange(24)\n",
    "arr_3d =np.array(range(1,25,1))\n",
    "arr_3d =arr_3d.reshape(2,4,3)\n",
    "# arr_3d.shape()"
   ]
  },
  {
   "cell_type": "code",
   "execution_count": 200,
   "metadata": {},
   "outputs": [
    {
     "name": "stdout",
     "output_type": "stream",
     "text": [
      "0\n",
      "1\n",
      "2\n",
      "3\n",
      "4\n",
      "5\n",
      "6\n",
      "7\n",
      "8\n",
      "9\n",
      "10\n",
      "11\n",
      "12\n",
      "13\n",
      "14\n",
      "15\n",
      "16\n",
      "17\n",
      "18\n",
      "19\n",
      "20\n",
      "21\n",
      "22\n",
      "23\n"
     ]
    }
   ],
   "source": [
    "for d3 in arr_3d:\n",
    "    for d2 in d3:\n",
    "        for d1 in d2:\n",
    "            print(d1)"
   ]
  },
  {
   "cell_type": "code",
   "execution_count": 206,
   "metadata": {},
   "outputs": [
    {
     "ename": "ValueError",
     "evalue": "operands could not be broadcast together with shapes (3,3) (4,4) ",
     "output_type": "error",
     "traceback": [
      "\u001b[1;31m---------------------------------------------------------------------------\u001b[0m",
      "\u001b[1;31mValueError\u001b[0m                                Traceback (most recent call last)",
      "\u001b[1;32m<ipython-input-206-5a5ccbd3894b>\u001b[0m in \u001b[0;36m<module>\u001b[1;34m\u001b[0m\n\u001b[0;32m      3\u001b[0m \u001b[0marr2\u001b[0m \u001b[1;33m=\u001b[0m\u001b[0mnp\u001b[0m\u001b[1;33m.\u001b[0m\u001b[0marange\u001b[0m\u001b[1;33m(\u001b[0m\u001b[1;36m16\u001b[0m\u001b[1;33m)\u001b[0m\u001b[1;33m\u001b[0m\u001b[1;33m\u001b[0m\u001b[0m\n\u001b[0;32m      4\u001b[0m \u001b[0marr2\u001b[0m \u001b[1;33m=\u001b[0m\u001b[0marr2\u001b[0m\u001b[1;33m.\u001b[0m\u001b[0mreshape\u001b[0m\u001b[1;33m(\u001b[0m\u001b[1;36m4\u001b[0m\u001b[1;33m,\u001b[0m\u001b[1;36m4\u001b[0m\u001b[1;33m)\u001b[0m\u001b[1;33m\u001b[0m\u001b[1;33m\u001b[0m\u001b[0m\n\u001b[1;32m----> 5\u001b[1;33m \u001b[0marr1\u001b[0m\u001b[1;33m+\u001b[0m\u001b[0marr2\u001b[0m\u001b[1;33m\u001b[0m\u001b[1;33m\u001b[0m\u001b[0m\n\u001b[0m",
      "\u001b[1;31mValueError\u001b[0m: operands could not be broadcast together with shapes (3,3) (4,4) "
     ]
    }
   ],
   "source": [
    "arr1 =np.arange(9)\n",
    "arr1 =arr1.reshape(3,3)\n",
    "arr2 =np.arange(16)\n",
    "arr2 =arr2.reshape(4,4)\n",
    "arr1+arr2"
   ]
  },
  {
   "cell_type": "code",
   "execution_count": 227,
   "metadata": {},
   "outputs": [
    {
     "data": {
      "text/plain": [
       "array([[0.04761905, 0.09090909, 0.13043478],\n",
       "       [0.16666667, 0.2       , 0.23076923],\n",
       "       [0.25925926, 0.28571429, 0.31034483]])"
      ]
     },
     "execution_count": 227,
     "metadata": {},
     "output_type": "execute_result"
    }
   ],
   "source": [
    "arr1 =np.array(range(1,10,1))\n",
    "arr1 =arr1.reshape(3,3)\n",
    "arr2 =np.array(range(21,30,1))\n",
    "arr2 =arr2.reshape(3,3)\n",
    "np.add(arr1,arr2)\n",
    "np.subtract(arr1,arr2)\n",
    "np.dot(arr1,arr2)\n",
    "np.divide(arr1,arr2)"
   ]
  },
  {
   "cell_type": "code",
   "execution_count": 245,
   "metadata": {},
   "outputs": [
    {
     "name": "stdout",
     "output_type": "stream",
     "text": [
      "1:\n",
      " [[ 1  2  3  4  5]\n",
      " [11 12 13 14 15]]\n",
      "2:\n",
      " [[ 1  2  3  4  5]\n",
      " [11 12 13 14 15]]\n",
      "3:\n",
      " [[ 1 11]\n",
      " [ 2 12]\n",
      " [ 3 13]\n",
      " [ 4 14]\n",
      " [ 5 15]]\n"
     ]
    }
   ],
   "source": [
    "# joining two numpy arrays\n",
    "a1 = np.array([1,2,3,4,5])\n",
    "a2 = np.array([11,12,13,14,15])\n",
    "print(\"1:\\n\",np.stack((a1,a2)))\n",
    "print(\"2:\\n\",np.stack((a1,a2),axis = 0))\n",
    "print(\"3:\\n\",np.stack((a1,a2),axis = 1))#transporse"
   ]
  },
  {
   "cell_type": "code",
   "execution_count": 254,
   "metadata": {},
   "outputs": [
    {
     "name": "stdout",
     "output_type": "stream",
     "text": [
      "1:\n",
      " [ 1  2  3  4  5 11 12 13 14 15]\n",
      "2:\n",
      " [[ 1  2  3  4  5]\n",
      " [11 12 13 14 15]]\n",
      "3:\n",
      " [ 1  2  3  4  5 11 12 13 14 15]\n",
      "4:\n",
      " [array([1, 2, 3, 4, 5]), array([11, 12, 13, 14, 15])]\n"
     ]
    }
   ],
   "source": [
    "print(\"1:\\n\",np.hstack((a1,a2)))\n",
    "print(\"2:\\n\",np.vstack((a1,a2)))\n",
    "print(\"3:\\n\",np.concatenate((a1,a2)))\n",
    "a3=np.concatenate((a1,a2))\n",
    "print(\"4:\\n\",np.array_split(a3,2)) #creates new array ...if more split then empty array"
   ]
  },
  {
   "cell_type": "code",
   "execution_count": 248,
   "metadata": {},
   "outputs": [
    {
     "data": {
      "text/plain": [
       "[array([1, 2, 3]), array([ 4,  5, 11]), array([12, 13]), array([14, 15])]"
      ]
     },
     "execution_count": 248,
     "metadata": {},
     "output_type": "execute_result"
    }
   ],
   "source": [
    "a3=np.concatenate((a1,a2))\n",
    "np.array_split(a3,4)"
   ]
  },
  {
   "cell_type": "code",
   "execution_count": 240,
   "metadata": {},
   "outputs": [
    {
     "data": {
      "text/plain": [
       "array([ 1,  2,  3,  4,  5, 11, 12, 13, 14, 15])"
      ]
     },
     "execution_count": 240,
     "metadata": {},
     "output_type": "execute_result"
    }
   ],
   "source": []
  }
 ],
 "metadata": {
  "kernelspec": {
   "display_name": "Python 3",
   "language": "python",
   "name": "python3"
  },
  "language_info": {
   "codemirror_mode": {
    "name": "ipython",
    "version": 3
   },
   "file_extension": ".py",
   "mimetype": "text/x-python",
   "name": "python",
   "nbconvert_exporter": "python",
   "pygments_lexer": "ipython3",
   "version": "3.7.6"
  }
 },
 "nbformat": 4,
 "nbformat_minor": 4
}
