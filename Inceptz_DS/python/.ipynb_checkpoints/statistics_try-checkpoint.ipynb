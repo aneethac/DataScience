{
 "cells": [
  {
   "cell_type": "code",
   "execution_count": 11,
   "metadata": {},
   "outputs": [
    {
     "name": "stdout",
     "output_type": "stream",
     "text": [
      "         points\n",
      "count   14.0000\n",
      "mean    27.0000\n",
      "std     27.5318\n",
      "min      5.0000\n",
      "25%     12.0000\n",
      "50%     18.5000\n",
      "75%     23.7500\n",
      "max    100.0000\n",
      "           points\n",
      "count   14.000000\n",
      "mean    27.000000\n",
      "std     23.709784\n",
      "min      7.000000\n",
      "25%     14.750000\n",
      "50%     21.500000\n",
      "75%     29.250000\n",
      "max    102.000000\n"
     ]
    }
   ],
   "source": [
    "import pandas as pd\n",
    "d1 = [40,20,5,20,10,75,100,25,15,15,20,17,11,5]\n",
    "d2=[35,40,7,23,20,26,12,30,27,102,18,17,14,7]\n",
    "\n",
    "p1= pd.DataFrame(d1,columns=['points'])\n",
    "p2= pd.DataFrame(d2,columns=['points'])\n",
    "print(p1.describe(include = 'all'))\n",
    "print(p2.describe(include = 'all'))\n",
    "print(p1.cov())\n",
    "print(p2.cov())"
   ]
  },
  {
   "cell_type": "code",
   "execution_count": null,
   "metadata": {},
   "outputs": [],
   "source": [
    "d1 = [40,20,5,20,10,75,100,25,15,15,20,17,11,5]\n",
    "d2=[35,40,7,23,20,26,12,30,27,102,18,17,14,7]\n",
    "\n",
    "p1= pd.DataFrame(d1,columns=['points'])\n",
    "p2= pd.DataFrame(d2,columns=['points'])\n",
    "print(p1.describe(include = 'all'))\n",
    "print(p2.describe(include = 'all'))"
   ]
  },
  {
   "cell_type": "code",
   "execution_count": 32,
   "metadata": {},
   "outputs": [
    {
     "data": {
      "text/plain": [
       "'C:\\\\Users\\\\Aneetha\\\\Desktop\\\\knowledge-base\\\\Inceptz_DS\\\\python'"
      ]
     },
     "execution_count": 32,
     "metadata": {},
     "output_type": "execute_result"
    }
   ],
   "source": [
    "import os as os\n",
    "os.getcwd()\n",
    "os.chdir('C:\\\\Users\\\\Aneetha\\\\Desktop\\\\knowledge-base\\\\Inceptz_DS\\\\source')"
   ]
  },
  {
   "cell_type": "code",
   "execution_count": null,
   "metadata": {},
   "outputs": [],
   "source": [
    "from sklearn.datasets import load_iris\n",
    "iris = load_iris()\n",
    "df =pd.DataFrame(iris.data)"
   ]
  },
  {
   "cell_type": "code",
   "execution_count": 52,
   "metadata": {},
   "outputs": [
    {
     "name": "stdout",
     "output_type": "stream",
     "text": [
      "     Sepal Length (cm)  Sepal Width (cm)  Petal Length (cm)  Petal Width (cm)  \\\n",
      "Id                                                                              \n",
      "1                  5.1               3.5                1.4               0.2   \n",
      "2                  4.9               3.0                1.4               0.2   \n",
      "3                  4.7               3.2                1.3               0.2   \n",
      "4                  4.6               3.1                1.5               0.2   \n",
      "5                  5.0               3.6                1.4               0.2   \n",
      "..                 ...               ...                ...               ...   \n",
      "146                6.7               3.0                5.2               2.3   \n",
      "147                6.3               2.5                5.0               1.9   \n",
      "148                6.5               3.0                5.2               2.0   \n",
      "149                6.2               3.4                5.4               2.3   \n",
      "150                5.9               3.0                5.1               1.8   \n",
      "\n",
      "            Species  \n",
      "Id                   \n",
      "1       Iris-setosa  \n",
      "2       Iris-setosa  \n",
      "3       Iris-setosa  \n",
      "4       Iris-setosa  \n",
      "5       Iris-setosa  \n",
      "..              ...  \n",
      "146  Iris-virginica  \n",
      "147  Iris-virginica  \n",
      "148  Iris-virginica  \n",
      "149  Iris-virginica  \n",
      "150  Iris-virginica  \n",
      "\n",
      "[150 rows x 5 columns]\n"
     ]
    },
    {
     "data": {
      "text/html": [
       "<div>\n",
       "<style scoped>\n",
       "    .dataframe tbody tr th:only-of-type {\n",
       "        vertical-align: middle;\n",
       "    }\n",
       "\n",
       "    .dataframe tbody tr th {\n",
       "        vertical-align: top;\n",
       "    }\n",
       "\n",
       "    .dataframe thead th {\n",
       "        text-align: right;\n",
       "    }\n",
       "</style>\n",
       "<table border=\"1\" class=\"dataframe\">\n",
       "  <thead>\n",
       "    <tr style=\"text-align: right;\">\n",
       "      <th></th>\n",
       "      <th>Sepal Length (cm)</th>\n",
       "      <th>Sepal Width (cm)</th>\n",
       "      <th>Petal Length (cm)</th>\n",
       "      <th>Petal Width (cm)</th>\n",
       "    </tr>\n",
       "  </thead>\n",
       "  <tbody>\n",
       "    <tr>\n",
       "      <th>count</th>\n",
       "      <td>150.000000</td>\n",
       "      <td>150.000000</td>\n",
       "      <td>150.000000</td>\n",
       "      <td>150.000000</td>\n",
       "    </tr>\n",
       "    <tr>\n",
       "      <th>mean</th>\n",
       "      <td>5.843333</td>\n",
       "      <td>3.054000</td>\n",
       "      <td>3.758667</td>\n",
       "      <td>1.198667</td>\n",
       "    </tr>\n",
       "    <tr>\n",
       "      <th>std</th>\n",
       "      <td>0.828066</td>\n",
       "      <td>0.433594</td>\n",
       "      <td>1.764420</td>\n",
       "      <td>0.763161</td>\n",
       "    </tr>\n",
       "    <tr>\n",
       "      <th>min</th>\n",
       "      <td>4.300000</td>\n",
       "      <td>2.000000</td>\n",
       "      <td>1.000000</td>\n",
       "      <td>0.100000</td>\n",
       "    </tr>\n",
       "    <tr>\n",
       "      <th>25%</th>\n",
       "      <td>5.100000</td>\n",
       "      <td>2.800000</td>\n",
       "      <td>1.600000</td>\n",
       "      <td>0.300000</td>\n",
       "    </tr>\n",
       "    <tr>\n",
       "      <th>50%</th>\n",
       "      <td>5.800000</td>\n",
       "      <td>3.000000</td>\n",
       "      <td>4.350000</td>\n",
       "      <td>1.300000</td>\n",
       "    </tr>\n",
       "    <tr>\n",
       "      <th>75%</th>\n",
       "      <td>6.400000</td>\n",
       "      <td>3.300000</td>\n",
       "      <td>5.100000</td>\n",
       "      <td>1.800000</td>\n",
       "    </tr>\n",
       "    <tr>\n",
       "      <th>max</th>\n",
       "      <td>7.900000</td>\n",
       "      <td>4.400000</td>\n",
       "      <td>6.900000</td>\n",
       "      <td>2.500000</td>\n",
       "    </tr>\n",
       "  </tbody>\n",
       "</table>\n",
       "</div>"
      ],
      "text/plain": [
       "       Sepal Length (cm)  Sepal Width (cm)  Petal Length (cm)  \\\n",
       "count         150.000000        150.000000         150.000000   \n",
       "mean            5.843333          3.054000           3.758667   \n",
       "std             0.828066          0.433594           1.764420   \n",
       "min             4.300000          2.000000           1.000000   \n",
       "25%             5.100000          2.800000           1.600000   \n",
       "50%             5.800000          3.000000           4.350000   \n",
       "75%             6.400000          3.300000           5.100000   \n",
       "max             7.900000          4.400000           6.900000   \n",
       "\n",
       "       Petal Width (cm)  \n",
       "count        150.000000  \n",
       "mean           1.198667  \n",
       "std            0.763161  \n",
       "min            0.100000  \n",
       "25%            0.300000  \n",
       "50%            1.300000  \n",
       "75%            1.800000  \n",
       "max            2.500000  "
      ]
     },
     "execution_count": 52,
     "metadata": {},
     "output_type": "execute_result"
    }
   ],
   "source": [
    "df = pd.read_csv('iris.csv' ,index_col= 'Id')\n",
    "# print(df)\n",
    "print(df.describe())\n",
    "print(df.cov())\n",
    "print(df.corr())"
   ]
  },
  {
   "cell_type": "code",
   "execution_count": 51,
   "metadata": {},
   "outputs": [
    {
     "data": {
      "text/plain": [
       "Id\n",
       "45     5.1\n",
       "26     5.0\n",
       "145    6.7\n",
       "99     5.1\n",
       "127    6.2\n",
       "Name: Sepal Length (cm), dtype: float64"
      ]
     },
     "execution_count": 51,
     "metadata": {},
     "output_type": "execute_result"
    }
   ],
   "source": [
    "df['Sepal Length (cm)'].sample(5)"
   ]
  },
  {
   "cell_type": "code",
   "execution_count": 60,
   "metadata": {},
   "outputs": [
    {
     "data": {
      "text/plain": [
       "[6.1, 4.7, 5.3, 5.8, 5.7]"
      ]
     },
     "execution_count": 60,
     "metadata": {},
     "output_type": "execute_result"
    }
   ],
   "source": [
    "import random\n",
    "random.sample(list(df['Sepal Length (cm)']),5)"
   ]
  },
  {
   "cell_type": "code",
   "execution_count": 129,
   "metadata": {},
   "outputs": [
    {
     "data": {
      "text/plain": [
       "<matplotlib.axes._subplots.AxesSubplot at 0x1d2c6e691c8>"
      ]
     },
     "execution_count": 129,
     "metadata": {},
     "output_type": "execute_result"
    },
    {
     "data": {
      "image/png": "[encoded data removed]",
      "text/plain": [
       "<Figure size 432x288 with 1 Axes>"
      ]
     },
     "metadata": {},
     "output_type": "display_data"
    }
   ],
   "source": [
    "#Central Limit Theorem\n",
    "import numpy as np \n",
    "import matplotlib.pyplot as plt\n",
    "import seaborn as sns; sns.set()\n",
    "import numpy as np\n",
    "df = pd.read_csv('iris.csv' ,index_col= 'Id')\n",
    "clt =list()\n",
    "\n",
    "for i in range(1,10000):\n",
    "    mean= np.mean(df['Sepal Length (cm)'].sample(5))\n",
    "    clt.append(mean)\n",
    "sns.distplot(clt)\n"
   ]
  },
  {
   "cell_type": "code",
   "execution_count": null,
   "metadata": {},
   "outputs": [],
   "source": [
    "import statistics as stat\n",
    "print(stat.mean(clt))\n",
    "print(stat.mode(clt))\n",
    "print(stat.median(clt))\n",
    "print(stat.stdev(clt))\n",
    "print(stat.variance(clt))"
   ]
  },
  {
   "cell_type": "raw",
   "metadata": {},
   "source": [
    "df.plot.box(grid='True')"
   ]
  }
 ],
 "metadata": {
  "kernelspec": {
   "display_name": "Python 3",
   "language": "python",
   "name": "python3"
  },
  "language_info": {
   "codemirror_mode": {
    "name": "ipython",
    "version": 3
   },
   "file_extension": ".py",
   "mimetype": "text/x-python",
   "name": "python",
   "nbconvert_exporter": "python",
   "pygments_lexer": "ipython3",
   "version": "3.7.6"
  }
 },
 "nbformat": 4,
 "nbformat_minor": 4
}
