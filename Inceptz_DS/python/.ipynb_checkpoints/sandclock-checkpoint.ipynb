{
 "cells": [
  {
   "cell_type": "code",
   "execution_count": 2,
   "metadata": {},
   "outputs": [
    {
     "ename": "IndentationError",
     "evalue": "unexpected indent (<ipython-input-2-cb3dc6e2ec06>, line 9)",
     "output_type": "error",
     "traceback": [
      "\u001b[1;36m  File \u001b[1;32m\"<ipython-input-2-cb3dc6e2ec06>\"\u001b[1;36m, line \u001b[1;32m9\u001b[0m\n\u001b[1;33m    for _ in range(6):\u001b[0m\n\u001b[1;37m    ^\u001b[0m\n\u001b[1;31mIndentationError\u001b[0m\u001b[1;31m:\u001b[0m unexpected indent\n"
     ]
    }
   ],
   "source": [
    "import math\n",
    "import os\n",
    "import random\n",
    "import re\n",
    "import sys\n",
    "# if _name_ == '_main_':\n",
    "#     arr = []\n",
    "\n",
    "    for _ in range(6):\n",
    "        arr.append(list(map(int, input().rstrip().split())))"
   ]
  },
  {
   "cell_type": "code",
   "execution_count": 182,
   "metadata": {},
   "outputs": [
    {
     "name": "stdout",
     "output_type": "stream",
     "text": [
      "[[ 1  1  1  0  0  0]\n",
      " [ 0  1  0  0  0  0]\n",
      " [ 1  1  1  0  0  0]\n",
      " [ 0  0  2  4  4  0]\n",
      " [ 0  0  0  2  0  0]\n",
      " [ 0  0  1  2  4 10]]\n"
     ]
    }
   ],
   "source": [
    "import numpy as np\n",
    "arr = np.array([[1,1,1,0,0,0],[0,1,0,0,0,0],[1,1,1,0,0,0],[0,0,2,4,4,0],[0,0,0,2,0,0],[0,0,1,2,4,10]])\n",
    "print(arr)"
   ]
  },
  {
   "cell_type": "code",
   "execution_count": 67,
   "metadata": {},
   "outputs": [
    {
     "data": {
      "text/plain": [
       "array([[0, 0, 2],\n",
       "       [0, 0, 0],\n",
       "       [0, 0, 1]])"
      ]
     },
     "execution_count": 67,
     "metadata": {},
     "output_type": "execute_result"
    }
   ],
   "source": [
    "arr[0:3,0:3]\n",
    "arr[1:4,0:3]\n",
    "arr[2:5,0:3]\n",
    "arr[3:6,0:3]"
   ]
  },
  {
   "cell_type": "code",
   "execution_count": 71,
   "metadata": {},
   "outputs": [
    {
     "name": "stdout",
     "output_type": "stream",
     "text": [
      "7\n"
     ]
    }
   ],
   "source": [
    "a=arr[0:3,0:3].sum()\n",
    "print(a)"
   ]
  },
  {
   "cell_type": "code",
   "execution_count": null,
   "metadata": {},
   "outputs": [],
   "source": [
    "arr[0:3,0:3]\n",
    "arr[0:3,1:4]\n",
    "arr[0:3,2:5]\n",
    "arr[0:3,3:6]"
   ]
  },
  {
   "cell_type": "code",
   "execution_count": 79,
   "metadata": {},
   "outputs": [
    {
     "data": {
      "text/plain": [
       "array([[1, 0, 0],\n",
       "       [0, 0, 0],\n",
       "       [1, 0, 0]])"
      ]
     },
     "execution_count": 79,
     "metadata": {},
     "output_type": "execute_result"
    }
   ],
   "source": [
    "arr[0:3,0:3]\n",
    "arr[0:3,1:4]\n",
    "arr[0:3,2:5]\n",
    "arr[0:3,3:6]\n",
    "\n",
    "arr[1:4,0:3]\n",
    "arr[1:4,1:4]\n",
    "arr[1:4,2:5]\n",
    "arr[1:4,3:6]"
   ]
  },
  {
   "cell_type": "code",
   "execution_count": 112,
   "metadata": {},
   "outputs": [
    {
     "name": "stdout",
     "output_type": "stream",
     "text": [
      "[[0 0 0]\n",
      " [1 0 0]\n",
      " [2 4 4]]\n"
     ]
    }
   ],
   "source": [
    "print(arr[1:4,2:5])"
   ]
  },
  {
   "cell_type": "code",
   "execution_count": 152,
   "metadata": {},
   "outputs": [
    {
     "name": "stdout",
     "output_type": "stream",
     "text": [
      "[[0]]\n"
     ]
    }
   ],
   "source": [
    "print( d[1:-1,1:-1])"
   ]
  },
  {
   "cell_type": "code",
   "execution_count": 202,
   "metadata": {},
   "outputs": [
    {
     "name": "stdout",
     "output_type": "stream",
     "text": [
      "original array : \n",
      "\n",
      " [[1 1 1 0 0 0]\n",
      " [0 1 0 0 0 0]\n",
      " [1 1 1 0 0 0]\n",
      " [0 0 2 4 4 0]\n",
      " [0 0 0 2 0 0]\n",
      " [0 0 1 2 4 1]]\n",
      "\n",
      "The hour glass with maximum sum(19) is\n",
      "\n",
      " [[2 4 4]\n",
      " [0 2 0]\n",
      " [1 2 4]]\n"
     ]
    }
   ],
   "source": [
    "import numpy as np\n",
    "arr = np.array([[1,1,1,0,0,0],[0,1,0,0,0,0],[1,1,1,0,0,0],[0,0,2,4,4,0],[0,0,0,2,0,0],[0,0,1,2,4,1]])\n",
    "print('original array : \\n\\n', arr)\n",
    "s=3\n",
    "si =s\n",
    "sj = s\n",
    "sum_list =list()\n",
    "max_sum=0\n",
    "for i in range(0,si+1):\n",
    "    sj =s\n",
    "    for j in range(0,sj+1):\n",
    "        d = arr[i:si,j:sj].copy()\n",
    "        d[1][0]=0\n",
    "        d[1][2] =0\n",
    "        sum_list.append(d.sum())\n",
    "        if ( max_sum < d.sum()): \n",
    "            max_sum = d.sum()\n",
    "            max_array = arr[i:si,j:sj] \n",
    "        sj =sj+1\n",
    "         \n",
    "    si =si+1\n",
    "\n",
    "print('\\nThe hour glass with maximum sum({0}) is\\n\\n {1}'.format(max_sum,max_array))"
   ]
  },
  {
   "cell_type": "code",
   "execution_count": 476,
   "metadata": {},
   "outputs": [
    {
     "name": "stdout",
     "output_type": "stream",
     "text": [
      "1 1 1 0 0 0\n",
      "0 101 0 0 0 0\n",
      "1 1 1 0 200 0\n",
      "0 0 2 4 4 0\n",
      "0 0 0 2 0 0\n",
      "0 0 1 2 4 1\n",
      "\n",
      "The hour glass with maximum sum(208) is\n",
      "\n",
      " [[  0   0   0]\n",
      " [  0 200   0]\n",
      " [  4   4   0]]\n"
     ]
    }
   ],
   "source": [
    "import numpy as np\n",
    "# arr = np.array([[1,1,1,0,0,0],[0,1,0,0,0,0],[1,1,1,0,0,0],[0,0,2,4,4,0],[0,0,0,2,0,0],[0,0,1,2,4,1]])\n",
    "para = '1 1 1 0 0 0\\n0 101 0 0 0 0\\n1 1 1 0 200 0\\n0 0 2 4 4 0\\n0 0 0 2 0 0\\n0 0 1 2 4 1' \n",
    "s=3\n",
    "si =s\n",
    "sj = s\n",
    "sum_list =list()\n",
    "max_sum=0\n",
    "line =[]\n",
    "word = []\n",
    "lines=para.split('\\n')\n",
    "# print(line) \n",
    "for line in lines:\n",
    "    word.append(list(map(int,line.strip().split(' '))))  \n",
    "arr = np.array(word)    \n",
    "for i in range(0,si+1):\n",
    "    sj =s\n",
    "    for j in range(0,sj+1):\n",
    "        d = arr[i:si,j:sj].copy()\n",
    "        d[1][0]=0\n",
    "        d[1][2] =0\n",
    "        sum_list.append(d.sum())\n",
    "        if ( max_sum < d.sum()): \n",
    "            max_sum = d.sum()\n",
    "            max_array = arr[i:si,j:sj] \n",
    "        sj =sj+1\n",
    "         \n",
    "    si =si+1\n",
    "print(para)\n",
    "print('\\nThe hour glass with maximum sum({0}) is\\n\\n {1}'.format(max_sum,max_array))"
   ]
  },
  {
   "cell_type": "code",
   "execution_count": 445,
   "metadata": {},
   "outputs": [
    {
     "name": "stdout",
     "output_type": "stream",
     "text": [
      "[[1, 1, 1, 0, 0, 0], [0, 1, 0, 0, 0, 0], [1, 1, 1, 0, 0, 0], [0, 0, 2, 4, 4, 0], [0, 0, 0, 2, 0, 0], [0, 0, 1, 2, 4, 1]]\n",
      "1 1 1 0 0 0\n",
      "0 1 0 0 0 0\n",
      "1 1 1 0 0 0\n",
      "0 0 2 4 4 0\n",
      "0 0 0 2 0 0\n",
      "0 0 1 2 4 1\n"
     ]
    }
   ],
   "source": [
    "para = '1 1 1 0 0 0\\n0 1 0 0 0 0\\n1 1 1 0 0 0\\n0 0 2 4 4 0\\n0 0 0 2 0 0\\n0 0 1 2 4 1' \n",
    "s=3\n",
    "si =s\n",
    "sj = s\n",
    "sum_list =list()\n",
    "max_sum=0\n",
    "line =[]\n",
    "word = []\n",
    "lines=para.split('\\n')\n",
    "# print(line) \n",
    "for line in lines:\n",
    "    word.append(list(map(int,line.strip().split(' '))))   \n",
    "print(word)    \n",
    "print(para)"
   ]
  },
  {
   "cell_type": "code",
   "execution_count": 467,
   "metadata": {},
   "outputs": [
    {
     "name": "stdout",
     "output_type": "stream",
     "text": [
      "[1, 1, 1]\n",
      "[0, 1, 0]\n",
      "[1, 1, 1]\n",
      "[0, 0, 2]\n",
      "[0, 0, 0]\n",
      "[0, 0, 1]\n"
     ]
    }
   ],
   "source": [
    "s=3\n",
    "si =s\n",
    "sj = s\n",
    "sum_list =list()\n",
    "max_sum=0\n",
    "for i in range(0,6):    \n",
    "    for j in range(0,6):\n",
    "#             print(\"\\nloop i {0} j {1}\" .format(i,j))\n",
    "            if len(word[i][j:3]) ==3:\n",
    "                print(word[i][j:3]) \n",
    "#         d = arr[i:si,j:sj].copy()\n",
    "#         d[1][0]=0\n",
    "#         d[1][2] =0\n",
    "#         sum_list.append(d.sum())\n",
    "#         if ( max_sum < d.sum()): \n",
    "#             max_sum = d.sum()\n",
    "#             max_array = arr[i:si,j:sj] \n",
    "#         sj =sj+1\n",
    "         \n",
    "#     si =si+1\n",
    "\n",
    "# print('\\nThe hour glass with maximum sum({0}) is\\n\\n {1}'.format(max_sum,max_array))"
   ]
  },
  {
   "cell_type": "code",
   "execution_count": 446,
   "metadata": {},
   "outputs": [
    {
     "name": "stdout",
     "output_type": "stream",
     "text": [
      "[1, 1, 1]\n",
      "[1, 1, 1]\n",
      "3\n"
     ]
    }
   ],
   "source": [
    "# print(word[0:3])\n",
    "print(word[0][0:3])\n",
    "print(word[2][0:3])\n",
    "print(sum(word[0][0:3])) "
   ]
  },
  {
   "cell_type": "code",
   "execution_count": 468,
   "metadata": {},
   "outputs": [
    {
     "name": "stdout",
     "output_type": "stream",
     "text": [
      "[2, 3]\n"
     ]
    }
   ],
   "source": [
    "A = [[1, 2, 3], [4, 5, 6], [7, 8, 9]]\n",
    "print(A[0][1:3])"
   ]
  },
  {
   "cell_type": "code",
   "execution_count": 470,
   "metadata": {},
   "outputs": [
    {
     "name": "stdout",
     "output_type": "stream",
     "text": [
      "[[0, 0, 0, 0], [0, 0, 0, 0], [0, 0, 0, 0]]\n"
     ]
    }
   ],
   "source": [
    "n = 3\n",
    "m = 4\n",
    "a = [0] * n\n",
    "for i in range(n):\n",
    "    a[i] = [0] * m\n",
    "print(a)    "
   ]
  }
 ],
 "metadata": {
  "kernelspec": {
   "display_name": "Python 3",
   "language": "python",
   "name": "python3"
  },
  "language_info": {
   "codemirror_mode": {
    "name": "ipython",
    "version": 3
   },
   "file_extension": ".py",
   "mimetype": "text/x-python",
   "name": "python",
   "nbconvert_exporter": "python",
   "pygments_lexer": "ipython3",
   "version": "3.7.6"
  }
 },
 "nbformat": 4,
 "nbformat_minor": 4
}
