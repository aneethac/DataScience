{
 "cells": [
  {
   "cell_type": "code",
   "execution_count": null,
   "metadata": {},
   "outputs": [],
   "source": [
    "import os as os\n",
    "os.getcwd()\n",
    "os.chdir('C:\\\\Users\\\\Aneetha\\\\Desktop\\\\knowledge-base\\\\Inceptz_DS\\\\hackathon')\n",
    "!pip install matplotlib\n",
    "!python -m pip install PILLOW\n",
    "!D:\\python\\anaconda\\python.exe -m pip install --upgrade pip\n",
    "    !python -m pip install matplotlib"
   ]
  },
  {
   "cell_type": "code",
   "execution_count": null,
   "metadata": {},
   "outputs": [],
   "source": [
    "import pandas as pd\n",
    "import Re #regular expression library \n",
    "data = pd.read_csv('Consumer_Complaints.csv',index_col='Complaint ID')"
   ]
  },
  {
   "cell_type": "code",
   "execution_count": 1,
   "metadata": {},
   "outputs": [
    {
     "ename": "SyntaxError",
     "evalue": "invalid syntax (<ipython-input-1-f7f2f814c978>, line 13)",
     "output_type": "error",
     "traceback": [
      "\u001b[1;36m  File \u001b[1;32m\"<ipython-input-1-f7f2f814c978>\"\u001b[1;36m, line \u001b[1;32m13\u001b[0m\n\u001b[1;33m    data.rename(columns ={\"company\" = \"oraganisation\"} ,inplace =True)\u001b[0m\n\u001b[1;37m                                    ^\u001b[0m\n\u001b[1;31mSyntaxError\u001b[0m\u001b[1;31m:\u001b[0m invalid syntax\n"
     ]
    }
   ],
   "source": [
    "#Pre processing\n",
    "data.head()\n",
    "data.tail()\n",
    "data.info()\n",
    "data.dtypes()\n",
    "data.columns\n",
    "data.describe()\n",
    "data.describe(include = 'all')\n",
    "data.iloc[2:10,:]  #3 row to 10 row and all cols\n",
    "data.iloc[2:10,1:]  #3 row to 10 row and until 2nd col\n",
    "data[[\"col1\",\"col2\"]] #get all rows and select 2 cols\n",
    "data.loc[9,\"salary\"] #get salary of 10th row \n",
    "data.loc[9,\"salary\"] = 100000#get salary of 10th row\n",
    "data.rename(columns ={\"company\" = \"oraganisation\"} ,inplace =True)\n",
    "data[\"cols\"].unique() #all distinct items\n",
    "data[\"cols\"].nunique() # counts of unique items\n",
    "data[\"cols\"].value_counts()  #group by for each column and counts\n",
    "data.apply(lambda x: print( x.unique() ))\n",
    "data.apply(lambda x: print( x.value_counts() ))\n",
    "data[\"cols\"].replace({\"'a'\":\"a\"} ,inplace = True)\n",
    "\n",
    "data.isna().sum()\n",
    "data.duplicated().sum # find the duplicated row\n",
    "\n",
    "data[data.duplicated()] #Get the duplicated row\n",
    "data.drop_duplicates(inplace =True) #remove duplicate rows\n",
    "data.dropna().shape # number of na rows and cols  \n",
    "data.dropna(subset =[\"age\"],inplace =True) #to drop NAN value in all row for age\n",
    "data.dropna(inplcae =True) # to drop all columns with NAA\n",
    "data[\"age\"].fillna(data[\"age\"].median(),inplace =True) #fill na with median for Age cols\n",
    "data.isna.sum()\n",
    "data.corr()# if 1 +ive corr ,-1 -ive corr and 0 no correlation\n",
    "data[(data[\"age\"] )>40  & (data[\"salary\"]<5000))]\n",
    "data.groupby(\"organisation\").salary.mean() #group by oraganisation and mean of salary\n",
    "data[[\"age\",\"salary\"]].apply(lambda x: x.mean(),axis = \"columns\" )  #apply means on two columns using \n",
    "        #lambda 0 or index for rows,1 or columns for columns\n",
    "pd.get_dummies(data[\"organisation\"]) #one hot encoder\n",
    "# include the columns you want\n",
    "df[df.columns[df.columns.isin(['A', 'B'])]]\n",
    "\n",
    "# or more simply include columns:\n",
    "df[['A', 'B']]\n",
    "\n",
    "# exclude columns you don't want\n",
    "df[df.columns[~df.columns.isin(['C','D'])]]"
   ]
  },
  {
   "cell_type": "code",
   "execution_count": null,
   "metadata": {},
   "outputs": [],
   "source": [
    "import matplotlib\n",
    "%matplotlib inline\n",
    "data[\"age\"].plot(kind =\"hist\")\n",
    "data[\"salary\"].plot(kind =\"barh\")\n",
    "data[\"organisation\"].value_counts(kind =\"pie\")\n",
    "data.plot(kind =\"scatter\" ,x= \"age\" ,y= \"salary\")\n"
   ]
  },
  {
   "cell_type": "code",
   "execution_count": null,
   "metadata": {},
   "outputs": [],
   "source": [
    "#Modelling\n",
    "x = data[[\"age\"]] #always two dimension can be many varaibles\n",
    "y = data[\"salary\"]\n",
    "from sklearn.model_selection import train_test_split\n",
    "train_test_split(x,test_size = 0.3) #split only for one varaible\n",
    "train_x,test_x,train_y,test_y = train_test_split(x,y ,test_size = 0.3 ,random_state =8)  #split train and test\n",
    "        #for both variable x and y .Random_state is used to freeze the state .So we can use this everytime for demo.Can be zero also\n",
    "train_x.shape,test_x.shape,train_y.shape,test_y.shape\n",
    "from sklearn.linear_model import LinearRegression\n",
    "model = LinearRegression()\n",
    "model.intercept_\n",
    "model.coef_\n",
    "\n",
    "model.fit(train_x,train_y)\n",
    "pred_train = model.predict(train_x) # y=mx+b\n",
    "pred_test = model.predict(test_x) # y=mx+b"
   ]
  },
  {
   "cell_type": "code",
   "execution_count": null,
   "metadata": {},
   "outputs": [],
   "source": [
    "import matplotlib.pyplot as plt\n",
    "plt.scatter(train_x,train_y,color=\"green\") \n",
    "plt.scatter(test_x,test_y,color=\"red\") \n",
    "pt.plot( train_x,pred ,\"b\")#best fit line "
   ]
  },
  {
   "cell_type": "code",
   "execution_count": null,
   "metadata": {},
   "outputs": [],
   "source": [
    "#error Metrics\n",
    "from sklearn.metrics import mean_squared_error ,mean_absolute_error,r2_score\n",
    "mean_squared_error(train_y,pred_train)\n",
    "mean_squared_error(test_y,pred_test)\n",
    "mean_absolute_error(train_y,pred_train)\n",
    "mean_absolute_error(test_y,pred_test)\n",
    "r2_score(train_y,pred_train)\n",
    "r2_score(test_y,pred_test)\n",
    "\n",
    "from sklearn.metrics import mean_squared_error, mean_absolute_error, r2_score\n",
    "\n",
    "print(\"Train - MSE\",mean_squared_error(train_y, pred_train))\n",
    "\n",
    "print(\"Test - MSE\",mean_squared_error(test_y, pred_test))\n",
    "\n",
    "print(\"Train - MAE\",mean_absolute_error(train_y, pred_train))\n",
    "\n",
    "print(\"Test - MAE\",mean_absolute_error(test_y, pred_test))\n",
    "\n",
    "print(\"Train - R2 Score\",r2_score(train_y, pred_train))\n",
    "\n",
    "print(\"Test - R2 Score\",r2_score(test_y, pred_test))"
   ]
  },
  {
   "cell_type": "code",
   "execution_count": null,
   "metadata": {},
   "outputs": [],
   "source": [
    "data_org = pd.get_dummies(data[\"organisation\"]) \n",
    "data_new =pd.concat([data_org,data[[\"age\",\"salary\"]]] ,axis=1)"
   ]
  }
 ],
 "metadata": {
  "kernelspec": {
   "display_name": "Python 3",
   "language": "python",
   "name": "python3"
  },
  "language_info": {
   "codemirror_mode": {
    "name": "ipython",
    "version": 3
   },
   "file_extension": ".py",
   "mimetype": "text/x-python",
   "name": "python",
   "nbconvert_exporter": "python",
   "pygments_lexer": "ipython3",
   "version": "3.7.1"
  }
 },
 "nbformat": 4,
 "nbformat_minor": 2
}
